{
 "cells": [
  {
   "cell_type": "code",
   "execution_count": null,
   "metadata": {},
   "outputs": [],
   "source": [
    "## Project Overview\n",
    "\n",
    "# This project will study the evolution of the measures of economic activity, namely unemployment and mean income, alongside the growth of state minimum wage within the past 30 years. Many economists theorize that if the increase in minimum wage is over the natural wage of a market it may lead to a decrease in the number of jobs available and may also lead to an increase in the costs of living. The project will analyze the relationships among California minimum wage, unemployment rate, and mean real wage (adjusted by costs of living) in both Los Angeles County and San Francisco County. We will be using a linear regression analysis to test the relationships between these variables."
   ]
  }
 ],
 "metadata": {
  "kernelspec": {
   "display_name": "Python 3",
   "language": "python",
   "name": "python3"
  },
  "language_info": {
   "codemirror_mode": {
    "name": "ipython",
    "version": 3
   },
   "file_extension": ".py",
   "mimetype": "text/x-python",
   "name": "python",
   "nbconvert_exporter": "python",
   "pygments_lexer": "ipython3",
   "version": "3.8.3"
  }
 },
 "nbformat": 4,
 "nbformat_minor": 4
}
