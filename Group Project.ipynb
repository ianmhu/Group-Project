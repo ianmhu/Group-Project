{
 "cells": [
  {
   "cell_type": "markdown",
   "metadata": {},
   "source": [
    "## Project Overview\n",
    "\n",
    "This project will study the evolution of the measures of economic activity, namely unemployment and mean income, alongside the growth of state minimum wage within the past 30 years. Many economists theorize that if the increase in minimum wage is over the natural wage of a market it may lead to a decrease in the number of jobs available and may also lead to an increase in the costs of living. The project will analyze the relationships among California minimum wage, unemployment rate, and mean real wage (adjusted by costs of living) in both Los Angeles County and San Francisco County. We will be using a linear regression analysis to test the relationships between these variables.\n",
    "\n",
    "## Project Structure:\n",
    "The project will start by providing a data report. The data report will explain where the data comes from and how to access the data.\n",
    "\n",
    "The second part of the project will provide summary statistics about California minimum wage, the unemployment rate trends, and mean real wage  and provide visualizations of these statistics to help further illustrate the project.\n",
    "\n",
    "The third part of the project will state a hypothesis and compared with trends in previous scholarship. Then, a linear regression will be performed to test the hypothesis and the results will be stated. Lastly, there will be a detailed discussion of the results and how it follows or goes against previous scholarship.\n",
    "\n",
    "## Data Report\n",
    "\n",
    "The data for this project comes from the Federal Reserve Economic Data website (FRED). FRED provides yearly data on California minimum wage, monthly data on California unemployment rate, and yearly data on mean real wages in SF and LA county. The data can be accessed at https://fred.stlouisfed.org.\n",
    "\n",
    "\n",
    "## Key Variables\n",
    "The 3 key variables in this project are minimum wage, unemployment rate and mean real wages. FRED defines minimum wage as “The federal minimum wage is the minimum hourly wage employers are required to pay employees who are eligible under the Fair Labor Standards Act (FLSA) of 1938. The FLSA was generally only applicable to employees involved in interstate commerce, either directly or through the creation of goods. Many amendments have since been added to the FLSA, expanding its coverage and raising the minimum wage. Significant amendments occurred in 1961 and in 1966, when a separate minimum wage for farm workers was established. Starting in January of 1978 the minimum wages of all eligible workers, including farm workers, were made uniform. The values in the series for non-farm workers are those for the groups initially covered under the 1938 FLSA. Many states also have minimum wage laws. Some state laws provide greater employee protections; employers must comply with both.”\n",
    "\n",
    "The Employment development department(EDD) defines unemployment rate in California as “All civilians 16 years and over who did not work during the survey week, who made specific efforts to find a job within the past four weeks, and who were available to work. The unemployment rate is derived by dividing the number of unemployed by the labor force. The result is expressed as a percentage.”\n",
    "\n",
    "FRED defines mean real wages as “Mean household wages in real U.S. Dollars from the American Community Survey 1-year estimates adjusted for cost of living using regional price parities (RPP) from the U.S. Bureau of Economic Analysis' Real Personal Income for States and Metropolitan Areas.”"
   ]
  },
  {
   "cell_type": "code",
   "execution_count": 1,
   "metadata": {},
   "outputs": [
    {
     "data": {
      "text/plain": [
       "'/Users/juliawallace/Econ 149 Group Project'"
      ]
     },
     "execution_count": 1,
     "metadata": {},
     "output_type": "execute_result"
    }
   ],
   "source": [
    "%pwd"
   ]
  },
  {
   "cell_type": "code",
   "execution_count": null,
   "metadata": {},
   "outputs": [],
   "source": []
  }
 ],
 "metadata": {
  "kernelspec": {
   "display_name": "Python 3",
   "language": "python",
   "name": "python3"
  },
  "language_info": {
   "codemirror_mode": {
    "name": "ipython",
    "version": 3
   },
   "file_extension": ".py",
   "mimetype": "text/x-python",
   "name": "python",
   "nbconvert_exporter": "python",
   "pygments_lexer": "ipython3",
   "version": "3.7.6"
  }
 },
 "nbformat": 4,
 "nbformat_minor": 4
}
