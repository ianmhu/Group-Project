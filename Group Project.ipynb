{
 "cells": [
  {
   "cell_type": "markdown",
   "metadata": {},
   "source": [
    "## Project Overview\n",
    "\n",
    "This project will study the evolution of the measures of economic activity, namely unemployment and mean income, alongside the growth of state minimum wage within the past 30 years. Many economists theorize that if the increase in minimum wage is over the natural wage of a market it may lead to a decrease in the number of jobs available and may also lead to an increase in the costs of living. The project will analyze the relationships among California minimum wage, unemployment rate, and mean real wage (adjusted by costs of living) in Los Angeles County. We will be using a linear regression analysis to test the relationships between these variables.\n",
    "\n",
    "## Project Structure:\n",
    "The project will start by providing a data report. The data report will explain where the data comes from and how to access the data.\n",
    "\n",
    "The second part of the project will provide summary statistics about California minimum wage, the unemployment rate trends, and mean real wage  and provide visualizations of these statistics to help further illustrate the project.\n",
    "\n",
    "The third part of the project will state a hypothesis and compared with trends in previous scholarship. Then, a linear regression will be performed to test the hypothesis and the results will be stated. Lastly, there will be a detailed discussion of the results and how it follows or goes against previous scholarship.\n",
    "\n",
    "## Data Report\n",
    "\n",
    "The data for this project comes from the Federal Reserve Economic Data website (FRED). FRED provides yearly data on California minimum wage, monthly data on California unemployment rate, and yearly data on mean real wages in LA county. The data can be accessed at https://fred.stlouisfed.org.\n",
    "\n",
    "\n",
    "## Key Variables\n",
    "The 3 key variables in this project are minimum wage, unemployment rate and mean real wages. FRED defines minimum wage as “The federal minimum wage is the minimum hourly wage employers are required to pay employees who are eligible under the Fair Labor Standards Act (FLSA) of 1938. The FLSA was generally only applicable to employees involved in interstate commerce, either directly or through the creation of goods. Many amendments have since been added to the FLSA, expanding its coverage and raising the minimum wage. Significant amendments occurred in 1961 and in 1966, when a separate minimum wage for farm workers was established. Starting in January of 1978 the minimum wages of all eligible workers, including farm workers, were made uniform. The values in the series for non-farm workers are those for the groups initially covered under the 1938 FLSA. Many states also have minimum wage laws. Some state laws provide greater employee protections; employers must comply with both.”\n",
    "\n",
    "The Employment Development Department (EDD) defines unemployment rate in California as “All civilians 16 years and over who did not work during the survey week, who made specific efforts to find a job within the past four weeks, and who were available to work. The unemployment rate is derived by dividing the number of unemployed by the labor force. The result is expressed as a percentage.”\n",
    "\n",
    "FRED defines mean real wages as “Mean household wages in real U.S. Dollars from the American Community Survey 1-year estimates adjusted for cost of living using regional price parities (RPP) from the U.S. Bureau of Economic Analysis' Real Personal Income for States and Metropolitan Areas.”"
   ]
  },
  {
   "cell_type": "code",
   "execution_count": 1,
   "metadata": {},
   "outputs": [],
   "source": [
    "# Key Imports\n",
    "import numpy as np\n",
    "import matplotlib.pyplot as plt\n",
    "%matplotlib inline\n",
    "import pandas as pd\n",
    "import statsmodels.api as sm\n",
    "from statsmodels.iolib.summary2 import summary_col\n",
    "\n",
    "pd.options.display.max_rows = 10 # Change number of rows in output"
   ]
  },
  {
   "cell_type": "code",
   "execution_count": 2,
   "metadata": {},
   "outputs": [
    {
     "data": {
      "text/html": [
       "<div>\n",
       "<style scoped>\n",
       "    .dataframe tbody tr th:only-of-type {\n",
       "        vertical-align: middle;\n",
       "    }\n",
       "\n",
       "    .dataframe tbody tr th {\n",
       "        vertical-align: top;\n",
       "    }\n",
       "\n",
       "    .dataframe thead th {\n",
       "        text-align: right;\n",
       "    }\n",
       "</style>\n",
       "<table border=\"1\" class=\"dataframe\">\n",
       "  <thead>\n",
       "    <tr style=\"text-align: right;\">\n",
       "      <th></th>\n",
       "      <th>DATE</th>\n",
       "      <th>MINWAGE</th>\n",
       "    </tr>\n",
       "  </thead>\n",
       "  <tbody>\n",
       "    <tr>\n",
       "      <th>0</th>\n",
       "      <td>1968-01-01</td>\n",
       "      <td>1.65</td>\n",
       "    </tr>\n",
       "    <tr>\n",
       "      <th>1</th>\n",
       "      <td>1969-01-01</td>\n",
       "      <td>1.65</td>\n",
       "    </tr>\n",
       "    <tr>\n",
       "      <th>2</th>\n",
       "      <td>1970-01-01</td>\n",
       "      <td>1.65</td>\n",
       "    </tr>\n",
       "    <tr>\n",
       "      <th>3</th>\n",
       "      <td>1971-01-01</td>\n",
       "      <td>1.65</td>\n",
       "    </tr>\n",
       "    <tr>\n",
       "      <th>4</th>\n",
       "      <td>1972-01-01</td>\n",
       "      <td>1.65</td>\n",
       "    </tr>\n",
       "  </tbody>\n",
       "</table>\n",
       "</div>"
      ],
      "text/plain": [
       "        DATE  MINWAGE\n",
       "0 1968-01-01     1.65\n",
       "1 1969-01-01     1.65\n",
       "2 1970-01-01     1.65\n",
       "3 1971-01-01     1.65\n",
       "4 1972-01-01     1.65"
      ]
     },
     "execution_count": 2,
     "metadata": {},
     "output_type": "execute_result"
    }
   ],
   "source": [
    "# Access Data (CA Minimum Wage)\n",
    "url = 'https://fred.stlouisfed.org/series/STTMINWGCA/downloaddata/STTMINWGCA.csv'\n",
    "data = pd.read_csv(url, parse_dates=True)\n",
    "data.columns=['DATE','MINWAGE']\n",
    "data['DATE'] = pd.to_datetime(data['DATE'], errors='coerce')\n",
    "data.head()"
   ]
  },
  {
   "cell_type": "code",
   "execution_count": 3,
   "metadata": {},
   "outputs": [
    {
     "data": {
      "text/html": [
       "<div>\n",
       "<style scoped>\n",
       "    .dataframe tbody tr th:only-of-type {\n",
       "        vertical-align: middle;\n",
       "    }\n",
       "\n",
       "    .dataframe tbody tr th {\n",
       "        vertical-align: top;\n",
       "    }\n",
       "\n",
       "    .dataframe thead th {\n",
       "        text-align: right;\n",
       "    }\n",
       "</style>\n",
       "<table border=\"1\" class=\"dataframe\">\n",
       "  <thead>\n",
       "    <tr style=\"text-align: right;\">\n",
       "      <th></th>\n",
       "      <th>MINWAGE</th>\n",
       "    </tr>\n",
       "  </thead>\n",
       "  <tbody>\n",
       "    <tr>\n",
       "      <th>count</th>\n",
       "      <td>53.000000</td>\n",
       "    </tr>\n",
       "    <tr>\n",
       "      <th>mean</th>\n",
       "      <td>5.166038</td>\n",
       "    </tr>\n",
       "    <tr>\n",
       "      <th>std</th>\n",
       "      <td>2.954084</td>\n",
       "    </tr>\n",
       "    <tr>\n",
       "      <th>min</th>\n",
       "      <td>1.650000</td>\n",
       "    </tr>\n",
       "    <tr>\n",
       "      <th>25%</th>\n",
       "      <td>3.350000</td>\n",
       "    </tr>\n",
       "    <tr>\n",
       "      <th>50%</th>\n",
       "      <td>4.250000</td>\n",
       "    </tr>\n",
       "    <tr>\n",
       "      <th>75%</th>\n",
       "      <td>7.500000</td>\n",
       "    </tr>\n",
       "    <tr>\n",
       "      <th>max</th>\n",
       "      <td>12.000000</td>\n",
       "    </tr>\n",
       "  </tbody>\n",
       "</table>\n",
       "</div>"
      ],
      "text/plain": [
       "         MINWAGE\n",
       "count  53.000000\n",
       "mean    5.166038\n",
       "std     2.954084\n",
       "min     1.650000\n",
       "25%     3.350000\n",
       "50%     4.250000\n",
       "75%     7.500000\n",
       "max    12.000000"
      ]
     },
     "execution_count": 3,
     "metadata": {},
     "output_type": "execute_result"
    }
   ],
   "source": [
    "# Summary Statistics for California State Minimum Wage Rate\n",
    "data.describe()"
   ]
  },
  {
   "cell_type": "code",
   "execution_count": 4,
   "metadata": {},
   "outputs": [
    {
     "data": {
      "image/png": "[encoded data removed]",
      "text/plain": [
       "<Figure size 864x432 with 1 Axes>"
      ]
     },
     "metadata": {
      "needs_background": "light"
     },
     "output_type": "display_data"
    }
   ],
   "source": [
    "# Graphing the California State Minimum Wage Rate\n",
    "data1 = data.set_index('DATE')\n",
    "ax = data1['1968':'2020'].plot(title='California State Minimum Wage', legend=False, figsize=(12,6))\n",
    "ax.set_xlabel('Year', fontsize=12)\n",
    "ax.set_ylabel('Dollars per hour', fontsize=12)\n",
    "plt.show()"
   ]
  },
  {
   "cell_type": "code",
   "execution_count": 5,
   "metadata": {},
   "outputs": [
    {
     "name": "stdout",
     "output_type": "stream",
     "text": [
      "         DATE  LA U RATE\n",
      "0  1990-01-01     5.8916\n",
      "1  1991-01-01     7.9833\n",
      "2  1992-01-01     9.8833\n",
      "3  1993-01-01     9.9583\n",
      "4  1994-01-01     9.2583\n",
      "..        ...        ...\n",
      "26 2016-01-01     5.2500\n",
      "27 2017-01-01     4.7583\n",
      "28 2018-01-01     4.6250\n",
      "29 2019-01-01     4.4416\n",
      "30 2020-01-01        NaN\n",
      "\n",
      "[31 rows x 2 columns]\n"
     ]
    }
   ],
   "source": [
    "# Access Data (LA Unemployment Rate)\n",
    "url_u = 'https://fred.stlouisfed.org/graph/fredgraph.csv?bgcolor=%23e1e9f0&chart_type=line&drp=0&fo=open%20sans&graph_bgcolor=%23ffffff&height=450&mode=fred&recession_bars=on&txtcolor=%23444444&ts=12&tts=12&width=1168&nt=0&thu=0&trc=0&show_legend=yes&show_axis_titles=yes&show_tooltip=yes&id=CALOSA7URN&scale=left&cosd=1990-01-01&coed=2020-09-01&line_color=%234572a7&link_values=false&line_style=solid&mark_type=none&mw=3&lw=2&ost=-99999&oet=99999&mma=0&fml=a&fq=Annual&fam=avg&fgst=lin&fgsnd=2020-02-01&line_index=1&transformation=lin&vintage_date=2020-11-12&revision_date=2020-11-12&nd=1990-01-01.csv'\n",
    "data_u = pd.read_csv(url_u, parse_dates=True) # Note that we are importing the yearly average unemployment rate, to better fit with our other models\n",
    "data_u.columns=['DATE', 'LA U RATE']\n",
    "data_u['DATE'] = pd.to_datetime(data_u['DATE'], errors='coerce')\n",
    "data_u.head()\n",
    "data_u['LA U RATE'] = data_u['LA U RATE'].str[:6] # Changing the data to have 5 significant figures\n",
    "data_u['LA U RATE'] = pd.to_numeric(data_u['LA U RATE'], errors='coerce')\n",
    "print(data_u)"
   ]
  },
  {
   "cell_type": "code",
   "execution_count": 6,
   "metadata": {},
   "outputs": [
    {
     "data": {
      "text/html": [
       "<div>\n",
       "<style scoped>\n",
       "    .dataframe tbody tr th:only-of-type {\n",
       "        vertical-align: middle;\n",
       "    }\n",
       "\n",
       "    .dataframe tbody tr th {\n",
       "        vertical-align: top;\n",
       "    }\n",
       "\n",
       "    .dataframe thead th {\n",
       "        text-align: right;\n",
       "    }\n",
       "</style>\n",
       "<table border=\"1\" class=\"dataframe\">\n",
       "  <thead>\n",
       "    <tr style=\"text-align: right;\">\n",
       "      <th></th>\n",
       "      <th>LA U RATE</th>\n",
       "    </tr>\n",
       "  </thead>\n",
       "  <tbody>\n",
       "    <tr>\n",
       "      <th>count</th>\n",
       "      <td>30.000000</td>\n",
       "    </tr>\n",
       "    <tr>\n",
       "      <th>mean</th>\n",
       "      <td>7.449087</td>\n",
       "    </tr>\n",
       "    <tr>\n",
       "      <th>std</th>\n",
       "      <td>2.361363</td>\n",
       "    </tr>\n",
       "    <tr>\n",
       "      <th>min</th>\n",
       "      <td>4.441600</td>\n",
       "    </tr>\n",
       "    <tr>\n",
       "      <th>25%</th>\n",
       "      <td>5.447900</td>\n",
       "    </tr>\n",
       "    <tr>\n",
       "      <th>50%</th>\n",
       "      <td>6.808300</td>\n",
       "    </tr>\n",
       "    <tr>\n",
       "      <th>75%</th>\n",
       "      <td>9.008300</td>\n",
       "    </tr>\n",
       "    <tr>\n",
       "      <th>max</th>\n",
       "      <td>12.508000</td>\n",
       "    </tr>\n",
       "  </tbody>\n",
       "</table>\n",
       "</div>"
      ],
      "text/plain": [
       "       LA U RATE\n",
       "count  30.000000\n",
       "mean    7.449087\n",
       "std     2.361363\n",
       "min     4.441600\n",
       "25%     5.447900\n",
       "50%     6.808300\n",
       "75%     9.008300\n",
       "max    12.508000"
      ]
     },
     "execution_count": 6,
     "metadata": {},
     "output_type": "execute_result"
    }
   ],
   "source": [
    "# Summary Statistics for LA Unemployment Rate\n",
    "data_u.describe()"
   ]
  },
  {
   "cell_type": "code",
   "execution_count": 7,
   "metadata": {
    "scrolled": false
   },
   "outputs": [
    {
     "data": {
      "image/png": "[encoded data removed]",
      "text/plain": [
       "<Figure size 864x432 with 1 Axes>"
      ]
     },
     "metadata": {
      "needs_background": "light"
     },
     "output_type": "display_data"
    }
   ],
   "source": [
    "# Graphing LA Unemployment Rate\n",
    "data_u1 = data_u.set_index('DATE')\n",
    "ax = data_u1['1990':'2020'].plot(title='Los Angeles Yearly Average Unemployment Rate', legend=False, figsize=(12,6))\n",
    "ax.set_xlabel('Year', fontsize=12)\n",
    "ax.set_ylabel('%', fontsize=12)\n",
    "plt.show()"
   ]
  },
  {
   "cell_type": "code",
   "execution_count": 8,
   "metadata": {},
   "outputs": [
    {
     "data": {
      "text/html": [
       "<div>\n",
       "<style scoped>\n",
       "    .dataframe tbody tr th:only-of-type {\n",
       "        vertical-align: middle;\n",
       "    }\n",
       "\n",
       "    .dataframe tbody tr th {\n",
       "        vertical-align: top;\n",
       "    }\n",
       "\n",
       "    .dataframe thead th {\n",
       "        text-align: right;\n",
       "    }\n",
       "</style>\n",
       "<table border=\"1\" class=\"dataframe\">\n",
       "  <thead>\n",
       "    <tr style=\"text-align: right;\">\n",
       "      <th></th>\n",
       "      <th>DATE</th>\n",
       "      <th>REAL MEAN WAGE</th>\n",
       "    </tr>\n",
       "  </thead>\n",
       "  <tbody>\n",
       "    <tr>\n",
       "      <th>0</th>\n",
       "      <td>2009-01-01</td>\n",
       "      <td>24.86</td>\n",
       "    </tr>\n",
       "    <tr>\n",
       "      <th>1</th>\n",
       "      <td>2010-01-01</td>\n",
       "      <td>16.42</td>\n",
       "    </tr>\n",
       "    <tr>\n",
       "      <th>2</th>\n",
       "      <td>2011-01-01</td>\n",
       "      <td>15.76</td>\n",
       "    </tr>\n",
       "    <tr>\n",
       "      <th>3</th>\n",
       "      <td>2012-01-01</td>\n",
       "      <td>15.76</td>\n",
       "    </tr>\n",
       "    <tr>\n",
       "      <th>4</th>\n",
       "      <td>2013-01-01</td>\n",
       "      <td>16.00</td>\n",
       "    </tr>\n",
       "  </tbody>\n",
       "</table>\n",
       "</div>"
      ],
      "text/plain": [
       "        DATE  REAL MEAN WAGE\n",
       "0 2009-01-01           24.86\n",
       "1 2010-01-01           16.42\n",
       "2 2011-01-01           15.76\n",
       "3 2012-01-01           15.76\n",
       "4 2013-01-01           16.00"
      ]
     },
     "execution_count": 8,
     "metadata": {},
     "output_type": "execute_result"
    }
   ],
   "source": [
    "# Access Data (Real Mean Wage)\n",
    "url_r = 'https://fred.stlouisfed.org/series/MWACL06037/downloaddata/MWACL06037.csv'\n",
    "data_r = pd.read_csv(url_r, parse_dates=True)\n",
    "data_r.columns=['DATE', 'REAL MEAN WAGE']\n",
    "data_r['DATE'] = pd.to_datetime(data_r['DATE'], errors='coerce')\n",
    "data_r.head()"
   ]
  },
  {
   "cell_type": "code",
   "execution_count": 9,
   "metadata": {
    "scrolled": true
   },
   "outputs": [
    {
     "data": {
      "text/html": [
       "<div>\n",
       "<style scoped>\n",
       "    .dataframe tbody tr th:only-of-type {\n",
       "        vertical-align: middle;\n",
       "    }\n",
       "\n",
       "    .dataframe tbody tr th {\n",
       "        vertical-align: top;\n",
       "    }\n",
       "\n",
       "    .dataframe thead th {\n",
       "        text-align: right;\n",
       "    }\n",
       "</style>\n",
       "<table border=\"1\" class=\"dataframe\">\n",
       "  <thead>\n",
       "    <tr style=\"text-align: right;\">\n",
       "      <th></th>\n",
       "      <th>REAL MEAN WAGE</th>\n",
       "    </tr>\n",
       "  </thead>\n",
       "  <tbody>\n",
       "    <tr>\n",
       "      <th>count</th>\n",
       "      <td>10.000000</td>\n",
       "    </tr>\n",
       "    <tr>\n",
       "      <th>mean</th>\n",
       "      <td>20.120000</td>\n",
       "    </tr>\n",
       "    <tr>\n",
       "      <th>std</th>\n",
       "      <td>5.068116</td>\n",
       "    </tr>\n",
       "    <tr>\n",
       "      <th>min</th>\n",
       "      <td>15.760000</td>\n",
       "    </tr>\n",
       "    <tr>\n",
       "      <th>25%</th>\n",
       "      <td>16.072500</td>\n",
       "    </tr>\n",
       "    <tr>\n",
       "      <th>50%</th>\n",
       "      <td>16.790000</td>\n",
       "    </tr>\n",
       "    <tr>\n",
       "      <th>75%</th>\n",
       "      <td>25.325000</td>\n",
       "    </tr>\n",
       "    <tr>\n",
       "      <th>max</th>\n",
       "      <td>27.150000</td>\n",
       "    </tr>\n",
       "  </tbody>\n",
       "</table>\n",
       "</div>"
      ],
      "text/plain": [
       "       REAL MEAN WAGE\n",
       "count       10.000000\n",
       "mean        20.120000\n",
       "std          5.068116\n",
       "min         15.760000\n",
       "25%         16.072500\n",
       "50%         16.790000\n",
       "75%         25.325000\n",
       "max         27.150000"
      ]
     },
     "execution_count": 9,
     "metadata": {},
     "output_type": "execute_result"
    }
   ],
   "source": [
    "# Summary Statistics for LA Real Mean Wage\n",
    "data_r.describe()"
   ]
  },
  {
   "cell_type": "code",
   "execution_count": 10,
   "metadata": {},
   "outputs": [
    {
     "data": {
      "image/png": "[encoded data removed]",
      "text/plain": [
       "<Figure size 864x432 with 1 Axes>"
      ]
     },
     "metadata": {
      "needs_background": "light"
     },
     "output_type": "display_data"
    }
   ],
   "source": [
    "# Graphing Los Angeles Real Mean Wage\n",
    "data_r1 = data_r.set_index('DATE')\n",
    "ax = data_r1['2009':'2020'].plot(title='Los Angeles Real Mean Wage', legend=False, figsize=(12,6))\n",
    "ax.set_xlabel('Year', fontsize=12)\n",
    "ax.set_ylabel('1999 U.S. Dollars', fontsize=12)\n",
    "plt.show()"
   ]
  },
  {
   "cell_type": "code",
   "execution_count": 11,
   "metadata": {},
   "outputs": [],
   "source": [
    "# Compiling data into one dataframe\n",
    "res1 = pd.merge(data_u.assign(grouper=data_u['DATE'].dt.to_period('Y')), \n",
    "                   data.assign(grouper=data['DATE'].dt.to_period('Y')),\n",
    "                   how = 'left', on = 'grouper') # Pandas only allows for merging of one dataset at a time"
   ]
  },
  {
   "cell_type": "code",
   "execution_count": 12,
   "metadata": {},
   "outputs": [
    {
     "data": {
      "text/html": [
       "<div>\n",
       "<style scoped>\n",
       "    .dataframe tbody tr th:only-of-type {\n",
       "        vertical-align: middle;\n",
       "    }\n",
       "\n",
       "    .dataframe tbody tr th {\n",
       "        vertical-align: top;\n",
       "    }\n",
       "\n",
       "    .dataframe thead th {\n",
       "        text-align: right;\n",
       "    }\n",
       "</style>\n",
       "<table border=\"1\" class=\"dataframe\">\n",
       "  <thead>\n",
       "    <tr style=\"text-align: right;\">\n",
       "      <th></th>\n",
       "      <th>LA U RATE</th>\n",
       "      <th>MINWAGE</th>\n",
       "      <th>REAL MEAN WAGE</th>\n",
       "    </tr>\n",
       "  </thead>\n",
       "  <tbody>\n",
       "    <tr>\n",
       "      <th>count</th>\n",
       "      <td>30.000000</td>\n",
       "      <td>31.000000</td>\n",
       "      <td>10.000000</td>\n",
       "    </tr>\n",
       "    <tr>\n",
       "      <th>mean</th>\n",
       "      <td>7.449087</td>\n",
       "      <td>7.053226</td>\n",
       "      <td>20.120000</td>\n",
       "    </tr>\n",
       "    <tr>\n",
       "      <th>std</th>\n",
       "      <td>2.361363</td>\n",
       "      <td>2.411463</td>\n",
       "      <td>5.068116</td>\n",
       "    </tr>\n",
       "    <tr>\n",
       "      <th>min</th>\n",
       "      <td>4.441600</td>\n",
       "      <td>3.350000</td>\n",
       "      <td>15.760000</td>\n",
       "    </tr>\n",
       "    <tr>\n",
       "      <th>25%</th>\n",
       "      <td>5.447900</td>\n",
       "      <td>4.950000</td>\n",
       "      <td>16.072500</td>\n",
       "    </tr>\n",
       "    <tr>\n",
       "      <th>50%</th>\n",
       "      <td>6.808300</td>\n",
       "      <td>6.750000</td>\n",
       "      <td>16.790000</td>\n",
       "    </tr>\n",
       "    <tr>\n",
       "      <th>75%</th>\n",
       "      <td>9.008300</td>\n",
       "      <td>8.000000</td>\n",
       "      <td>25.325000</td>\n",
       "    </tr>\n",
       "    <tr>\n",
       "      <th>max</th>\n",
       "      <td>12.508000</td>\n",
       "      <td>12.000000</td>\n",
       "      <td>27.150000</td>\n",
       "    </tr>\n",
       "  </tbody>\n",
       "</table>\n",
       "</div>"
      ],
      "text/plain": [
       "       LA U RATE    MINWAGE  REAL MEAN WAGE\n",
       "count  30.000000  31.000000       10.000000\n",
       "mean    7.449087   7.053226       20.120000\n",
       "std     2.361363   2.411463        5.068116\n",
       "min     4.441600   3.350000       15.760000\n",
       "25%     5.447900   4.950000       16.072500\n",
       "50%     6.808300   6.750000       16.790000\n",
       "75%     9.008300   8.000000       25.325000\n",
       "max    12.508000  12.000000       27.150000"
      ]
     },
     "execution_count": 12,
     "metadata": {},
     "output_type": "execute_result"
    }
   ],
   "source": [
    "res2 = pd.merge(res1.assign(grouper=res1['DATE_x'].dt.to_period('Y')),\n",
    "                   data_r.assign(grouper=data_r['DATE'].dt.to_period('Y')),\n",
    "                   how = 'left', on = 'grouper')\n",
    "del res2['grouper']\n",
    "del res2['DATE_y']\n",
    "del res2['DATE']\n",
    "\n",
    "res2.describe()"
   ]
  },
  {
   "cell_type": "markdown",
   "metadata": {},
   "source": [
    "Regression Analysis Pt. 1\n",
    "\n",
    "According to economic theory, should minimum wage rise too much, there may lead to an increase in unemployment rates. That is, a negative association with a higher minimum wage. On the other hand, with a lower minimum wage, there may be a decrease in unemployment rates. We will now use linear regression to test this hypothesis. We hypothesize a similar phenomenon with real mean wage and unemployment."
   ]
  },
  {
   "cell_type": "code",
   "execution_count": 13,
   "metadata": {
    "scrolled": true
   },
   "outputs": [
    {
     "name": "stdout",
     "output_type": "stream",
     "text": [
      "                            OLS Regression Results                            \n",
      "==============================================================================\n",
      "Dep. Variable:              LA U RATE   R-squared:                       0.888\n",
      "Model:                            OLS   Adj. R-squared:                  0.856\n",
      "Method:                 Least Squares   F-statistic:                     27.67\n",
      "Date:                Sun, 06 Dec 2020   Prob (F-statistic):           0.000475\n",
      "Time:                        13:52:38   Log-Likelihood:                -14.222\n",
      "No. Observations:                  10   AIC:                             34.44\n",
      "Df Residuals:                       7   BIC:                             35.35\n",
      "Df Model:                           2                                         \n",
      "Covariance Type:            nonrobust                                         \n",
      "==================================================================================\n",
      "                     coef    std err          t      P>|t|      [0.025      0.975]\n",
      "----------------------------------------------------------------------------------\n",
      "const             32.2811      3.304      9.770      0.000      24.468      40.094\n",
      "MINWAGE           -2.8610      0.530     -5.400      0.001      -4.114      -1.608\n",
      "REAL MEAN WAGE     0.0980      0.122      0.804      0.448      -0.190       0.386\n",
      "==============================================================================\n",
      "Omnibus:                        0.729   Durbin-Watson:                   1.342\n",
      "Prob(Omnibus):                  0.695   Jarque-Bera (JB):                0.562\n",
      "Skew:                           0.027   Prob(JB):                        0.755\n",
      "Kurtosis:                       1.840   Cond. No.                         198.\n",
      "==============================================================================\n",
      "\n",
      "Warnings:\n",
      "[1] Standard Errors assume that the covariance matrix of the errors is correctly specified.\n"
     ]
    },
    {
     "name": "stderr",
     "output_type": "stream",
     "text": [
      "/Users/ianhu/opt/anaconda3/lib/python3.8/site-packages/scipy/stats/stats.py:1603: UserWarning: kurtosistest only valid for n>=20 ... continuing anyway, n=10\n",
      "  warnings.warn(\"kurtosistest only valid for n>=20 ... continuing \"\n"
     ]
    }
   ],
   "source": [
    "# Testing Linear Regression\n",
    "res2 = res2.dropna()\n",
    "\n",
    "X = res2[['MINWAGE', 'REAL MEAN WAGE']]\n",
    "Y = res2['LA U RATE']\n",
    "\n",
    "X = sm.add_constant(X)\n",
    "\n",
    "model1 = sm.OLS(Y,X).fit()\n",
    "predictions = model1.predict(X)\n",
    "\n",
    "print(model1.summary())"
   ]
  },
  {
   "cell_type": "code",
   "execution_count": 14,
   "metadata": {},
   "outputs": [
    {
     "ename": "AttributeError",
     "evalue": "'AxesSubplot' object has no attribute 'plot_surface'",
     "output_type": "error",
     "traceback": [
      "\u001b[0;31m---------------------------------------------------------------------------\u001b[0m",
      "\u001b[0;31mAttributeError\u001b[0m                            Traceback (most recent call last)",
      "\u001b[0;32m<ipython-input-14-0b31d96957b1>\u001b[0m in \u001b[0;36m<module>\u001b[0;34m\u001b[0m\n\u001b[1;32m     10\u001b[0m \u001b[0mz\u001b[0m \u001b[0;34m=\u001b[0m \u001b[0mf\u001b[0m\u001b[0;34m(\u001b[0m\u001b[0mx\u001b[0m\u001b[0;34m,\u001b[0m \u001b[0my\u001b[0m\u001b[0;34m)\u001b[0m\u001b[0;34m\u001b[0m\u001b[0;34m\u001b[0m\u001b[0m\n\u001b[1;32m     11\u001b[0m \u001b[0;34m\u001b[0m\u001b[0m\n\u001b[0;32m---> 12\u001b[0;31m \u001b[0max\u001b[0m\u001b[0;34m.\u001b[0m\u001b[0mplot_surface\u001b[0m\u001b[0;34m(\u001b[0m\u001b[0mx\u001b[0m\u001b[0;34m,\u001b[0m\u001b[0my\u001b[0m\u001b[0;34m,\u001b[0m\u001b[0mz\u001b[0m\u001b[0;34m,\u001b[0m \u001b[0mcolor\u001b[0m \u001b[0;34m=\u001b[0m \u001b[0;34m'b'\u001b[0m\u001b[0;34m)\u001b[0m\u001b[0;34m\u001b[0m\u001b[0;34m\u001b[0m\u001b[0m\n\u001b[0m\u001b[1;32m     13\u001b[0m \u001b[0mplt\u001b[0m\u001b[0;34m.\u001b[0m\u001b[0mshow\u001b[0m\u001b[0;34m(\u001b[0m\u001b[0;34m)\u001b[0m\u001b[0;34m\u001b[0m\u001b[0;34m\u001b[0m\u001b[0m\n",
      "\u001b[0;31mAttributeError\u001b[0m: 'AxesSubplot' object has no attribute 'plot_surface'"
     ]
    }
   ],
   "source": [
    "# Visualization of 3D Model\n",
    "def f(x,y):\n",
    "    return 32.2811 - 2.8610*x + 0.0980*y\n",
    "\n",
    "x = np.linspace(0, 30, 30)\n",
    "y = np.linspace(0, 30, 30)\n",
    "\n",
    "x, y = np.meshgrid(x,y)\n",
    "\n",
    "z = f(x, y)\n",
    "\n",
    "ax.plot_surface(x,y,z, color = 'b')\n",
    "plt.show()"
   ]
  },
  {
   "cell_type": "code",
   "execution_count": null,
   "metadata": {},
   "outputs": [],
   "source": [
    "fig = plt.figure()\n",
    "ax = fig.add_subplot(projection='3d')\n",
    "ax.contour3D(x, y, z, 50)\n",
    "ax.set_xlabel('Min. Wage')\n",
    "ax.set_ylabel('Real Mean Wage')\n",
    "ax.set_zlabel('Unemployment Rate');"
   ]
  },
  {
   "cell_type": "markdown",
   "metadata": {
    "collapsed": true
   },
   "source": [
    "### Population and Estimated Model 1\n",
    "\n",
    "$\\widehat{LA \\; Unemployment \\; Rate_i} = \\beta_0 + \\beta_1*MinWage_i + \\beta_2*RealMeanWage_i + \\varepsilon_i$\n",
    "$\\widehat{LA \\; Unemployment \\; Rate_i} = 32.3811 - 2.8610*MinWage_i + 0.0980*RealMeanWage_i + \\varepsilon_i$\n",
    "\n",
    "### Analysis of the Estimated Model 1\n",
    "\n",
    "As seen from our estimated model, we see that\n",
    "\n",
    "$\\hat{\\beta_0}$ = 32.2811, $\\hat{\\beta_1}$ = -2.8610, $\\hat{\\beta_2}$ = 0.0980, $R^2$ = 0.888\n",
    "\n",
    "The intercept $\\hat{\\beta_0}$, holding MinWage and RealMeanWage equal to 0, estimates a LA Unemployment Rate of 32.2811%, however, this is not significant as 0 is outside of the min and max of MinWage and RealMeanWage, [1.65,12] and [15.76, 27.15], respectively.\n",
    "\n",
    "The covariate, $\\hat{\\beta_1}$, implies that a unit increase in MinWage estimates a -2.8610 change in LA Unemployment Rate. Since our p-value = 0.001, we conclude that MinWage is statistically significant in our model (with 95% confidence). California Minimum Wage has a negative effect on LA Unemployment Rate. That is to say, within our model, increasing minimum wage will decrease the unemployment rate.\n",
    "\n",
    "The other covariate, $\\hat{\\beta_2}$, implies that a unit increase in RealMeanWage estimates a 0.0980 change in LA Unemployment Rate. However, since our p-value = 0.448, we conclude that RealMeanWage is not statistically significant. This means that although our estimate = 0.0980, we cannot be confident that the true effect of RealMeanWage on LA Unemployment Rate is not zero. As such, RealMeanWage should not be in our model.\n",
    "\n",
    "In regards to $R^2$, approximately 88.8% of the variation in LA's Unemployment Rate is explained by California's Minimum Wage and LA County's Real Mean Wage.\n",
    "\n",
    "Despite all this, however, it is important to note that FRED has only been tracking CA RealMeanWage from 2009 to 2018, and as such, the pandas dataset excludes all rows that contain cells with NaN. Consequently, our linear regression model only looks at the observations from 2009 to 2018, not the entire span of FRED's tracking of CA Minimum Wage."
   ]
  },
  {
   "cell_type": "code",
   "execution_count": null,
   "metadata": {},
   "outputs": [],
   "source": [
    "del res1['grouper']\n",
    "del res1['DATE_y']"
   ]
  },
  {
   "cell_type": "code",
   "execution_count": null,
   "metadata": {
    "scrolled": true
   },
   "outputs": [],
   "source": [
    "# Testing Linear Regression 2\n",
    "\n",
    "res1.dropna(inplace=True)\n",
    "X1 = res1['MINWAGE']\n",
    "Y1 = res1['LA U RATE']\n",
    "\n",
    "X1 = sm.add_constant(X1)\n",
    "\n",
    "model2 = sm.OLS(Y1,X1).fit()\n",
    "predictions1 = model2.predict(X1)\n",
    "\n",
    "print(model2.summary())"
   ]
  },
  {
   "cell_type": "code",
   "execution_count": null,
   "metadata": {
    "scrolled": false
   },
   "outputs": [],
   "source": [
    "# Visualization of 2D Model\n",
    "plt.plot(res1['MINWAGE'], res1['LA U RATE'], 'o')\n",
    "plt.title('LA County Unemployment Rate ~ CA Minimum Wage from 1990 to 2019')\n",
    "plt.xlabel('CA Minimum Wage (in 2020 USD)')\n",
    "plt.ylabel('Unemployment Rate (%)')\n",
    "\n",
    "m, b = np.polyfit(res1['MINWAGE'], res1['LA U RATE'], 1)\n",
    "plt.text(10, 9, r'8.84 - 0.20x')\n",
    "plt.plot(res1['MINWAGE'], m*res1['MINWAGE'] + b)\n",
    "plt.show()"
   ]
  },
  {
   "cell_type": "markdown",
   "metadata": {},
   "source": [
    "### Population and Estimated Model 2\n",
    "\n",
    "$\\widehat{LA \\; Unemployment \\; Rate_i} = \\beta_0 + \\beta_1*MinWage_i + \\varepsilon_i$\n",
    "\n",
    "$\\widehat{LA \\; Unemployment \\; Rate_i} = 8.8389 - 0.2018*MinWage_i + \\varepsilon_i$\n",
    "\n",
    "### Analysis of the Estimated Model 2\n",
    "\n",
    "As seen from our estimated model, we see that\n",
    "\n",
    "$\\hat{\\beta_0}$ = 8.8389, $\\hat{\\beta_1}$ = -0.2018, $R^2$ = 0.038\n",
    "\n",
    "Now, looking at simply Unemployment ~ Minimum Wage through a wider length of time, we see that things change greatly.\n",
    "\n",
    "At a mimimum wage of zero dollars, our model predict an unemployment rate of 8.8%. A dollar increase in minimum wage predicts a -0.20 change in LA Unemployment Rate. However, as our p-value = 0.305, we conclude that minimum wage is not statistically significant. We cannot conclude that the true proportion of minimum wage is not zero. \n",
    "\n",
    "In regards to $R^2$, approximately 3.8% of the variation in LA's Unemployment Rate is explained by California's Minimum Wage and LA County's Real Mean Wage. Our model with simply minimum wage and unemployment does not explain much."
   ]
  },
  {
   "cell_type": "markdown",
   "metadata": {},
   "source": [
    "## Concluding Remarks\n",
    "\n",
    "In conclusion, after running linear regression on both of these models and analyzing the datasets, we have only begun to show how complex unemployment is. Whether unemployment increases or decreases can not be attributed to just one or two factors, barring extreme circumstances such as a global pandemic or a major recession/financial collapse. Unemployment rates usually only significantly change in the long term and can depend on multiple outstanding factors not included in our datasets. Some examples of these confounding variables include the flux of workers entering and leaving the labor force, changes in what labor is demanded (such as a shift towards technology), and globalization (outsourcing/offshoring work). Even public policies such as the Federal interest rates and differing levels of unemployment benefits have a distinct effect on unemployment. Additionally, speaking towards endogeneity, these kinds of economic relationships can be difficult to analyze as explanatory variables may be affected by the response, or perhaps they are jointly affected by (a) confounding variable(s). That is, to say, economic variables can often be correlated and may not completely independent of one another. We still have yet to understand unemployment, thus our hypothesis is not yet confirmed.\n",
    "\n",
    "In regards to our chosen data, The FRED dataset for Real Mean Wage was only about 10 years old. Consequently, it was difficult to practically conclude or see anything beyond a statistically significant relationship. For the 2nd model with just minimum wage, the p-value was large and not statistically significant for this model most likely due to the many factors outlined above that affect unemployment. Minimum wage is just one of many factors that have an influence. Minimum wage alone is not enough to explain the variation in unemployment but with real mean wage added in the model we see a more significant relationship, thus supporting the notion that unemployment requires multiple factors to be considered to be correctly analyzed.  "
   ]
  },
  {
   "cell_type": "code",
   "execution_count": null,
   "metadata": {},
   "outputs": [],
   "source": []
  }
 ],
 "metadata": {
  "kernelspec": {
   "display_name": "Python 3",
   "language": "python",
   "name": "python3"
  },
  "language_info": {
   "codemirror_mode": {
    "name": "ipython",
    "version": 3
   },
   "file_extension": ".py",
   "mimetype": "text/x-python",
   "name": "python",
   "nbconvert_exporter": "python",
   "pygments_lexer": "ipython3",
   "version": "3.8.3"
  }
 },
 "nbformat": 4,
 "nbformat_minor": 4
}
